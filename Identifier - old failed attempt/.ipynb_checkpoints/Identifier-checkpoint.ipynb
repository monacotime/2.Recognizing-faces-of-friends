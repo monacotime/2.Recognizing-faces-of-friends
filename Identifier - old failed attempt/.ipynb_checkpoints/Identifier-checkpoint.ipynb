{
 "cells": [
  {
   "cell_type": "markdown",
   "metadata": {},
   "source": [
    "# Extracting data"
   ]
  },
  {
   "cell_type": "code",
   "execution_count": 1,
   "metadata": {},
   "outputs": [
    {
     "data": {
      "text/plain": [
       "<Figure size 640x480 with 1 Axes>"
      ]
     },
     "metadata": {},
     "output_type": "display_data"
    }
   ],
   "source": [
    "import numpy as np\n",
    "import matplotlib.pyplot as plt\n",
    "import os\n",
    "import cv2\n",
    "from tqdm import tqdm\n",
    "\n",
    "DATADIR = \"C:/Users/Rudra/Documents/Projects/AI studies/Identifier/Source Images\"\n",
    "\n",
    "CATEGORIES = [\"Anish\", \"Chaitu\", \"Rudra\"]\n",
    "\n",
    "for category in CATEGORIES:  # do dogs and cats\n",
    "    path = os.path.join(DATADIR,category)  # create path to dogs and cats\n",
    "    for img in os.listdir(path):  # iterate over each image per dogs and cats\n",
    "        img_array = cv2.imread(os.path.join(path,img) ,cv2.IMREAD_GRAYSCALE)  # convert to array\n",
    "        plt.imshow(img_array, cmap='gray')  # graph it\n",
    "        plt.show()  # display!\n",
    "\n",
    "        break  # we just want one for now so break\n",
    "    break  #...and one more!"
   ]
  },
  {
   "cell_type": "code",
   "execution_count": 2,
   "metadata": {
    "scrolled": false
   },
   "outputs": [
    {
     "data": {
      "image/png": "[encoded data removed]",
      "text/plain": [
       "<Figure size 432x288 with 1 Axes>"
      ]
     },
     "metadata": {
      "needs_background": "light"
     },
     "output_type": "display_data"
    }
   ],
   "source": [
    "#Aspect Ratio is 16:9\n",
    "IMG_SIZE_X = 72\n",
    "IMG_SIZE_Y = 128\n",
    "\n",
    "new_array = cv2.resize(img_array, (IMG_SIZE_X, IMG_SIZE_Y))\n",
    "plt.imshow(new_array, cmap='gray')\n",
    "plt.show()"
   ]
  },
  {
   "cell_type": "code",
   "execution_count": 3,
   "metadata": {},
   "outputs": [
    {
     "name": "stderr",
     "output_type": "stream",
     "text": [
      "100%|████████████████████████████████████████████████████████████████████████████████| 625/625 [00:14<00:00, 42.22it/s]\n",
      "100%|████████████████████████████████████████████████████████████████████████████████| 382/382 [00:08<00:00, 44.52it/s]\n",
      "100%|████████████████████████████████████████████████████████████████████████████████| 583/583 [00:12<00:00, 48.03it/s]\n"
     ]
    },
    {
     "name": "stdout",
     "output_type": "stream",
     "text": [
      "1590\n"
     ]
    }
   ],
   "source": [
    "training_data = []\n",
    "\n",
    "def create_training_data():\n",
    "    for category in CATEGORIES:  # do dogs and cats\n",
    "\n",
    "        path = os.path.join(DATADIR,category)  # create path to dogs and cats\n",
    "        class_num = CATEGORIES.index(category)  # get the classification  (0 or a 1). 0=dog 1=cat\n",
    "        IMG_SIZE_X = 72\n",
    "        IMG_SIZE_Y = 128\n",
    "        for img in tqdm(os.listdir(path)):  # iterate over each image per dogs and cats\n",
    "            try:\n",
    "                img_array = cv2.imread(os.path.join(path,img) ,cv2.IMREAD_GRAYSCALE)  # convert to array\n",
    "                new_array = cv2.resize(img_array, (IMG_SIZE_X, IMG_SIZE_Y))  # resize to normalize data size\n",
    "                training_data.append([new_array, class_num])  # add this to our training_data\n",
    "            except Exception as e:  # in the interest in keeping the output clean...\n",
    "                pass\n",
    "            #except OSError as e:\n",
    "            #    print(\"OSErrroBad img most likely\", e, os.path.join(path,img))\n",
    "            #except Exception as e:\n",
    "            #    print(\"general exception\", e, os.path.join(path,img))\n",
    "\n",
    "create_training_data()\n",
    "\n",
    "print(len(training_data))"
   ]
  },
  {
   "cell_type": "code",
   "execution_count": 4,
   "metadata": {},
   "outputs": [],
   "source": [
    "import random\n",
    "\n",
    "random.shuffle(training_data)"
   ]
  },
  {
   "cell_type": "code",
   "execution_count": 5,
   "metadata": {},
   "outputs": [],
   "source": [
    "x=[]\n",
    "y=[]\n",
    "\n",
    "for features,label in training_data:\n",
    "    x.append(features)\n",
    "    y.append(label)\n",
    "\n",
    "#print(x[0].reshape(-1,IMG_SIZE,IMG_SIZE,1))\n",
    "\n",
    "x = np.array(x).reshape(-1,IMG_SIZE_X,IMG_SIZE_Y,1)"
   ]
  },
  {
   "cell_type": "code",
   "execution_count": 6,
   "metadata": {},
   "outputs": [],
   "source": [
    "import pickle\n",
    "\n",
    "pickle_out = open(\"X.pickle\",\"wb\")\n",
    "pickle.dump(x, pickle_out)\n",
    "pickle_out.close()\n",
    "\n",
    "pickle_out = open(\"y.pickle\",\"wb\")\n",
    "pickle.dump(y, pickle_out)\n",
    "pickle_out.close()"
   ]
  },
  {
   "cell_type": "markdown",
   "metadata": {},
   "source": [
    "# using pickle"
   ]
  },
  {
   "cell_type": "code",
   "execution_count": 7,
   "metadata": {},
   "outputs": [],
   "source": [
    "pickle_in = open(\"X.pickle\",\"rb\")\n",
    "x = pickle.load(pickle_in)\n",
    "\n",
    "pickle_in = open(\"y.pickle\",\"rb\")\n",
    "y = pickle.load(pickle_in)"
   ]
  },
  {
   "cell_type": "code",
   "execution_count": 8,
   "metadata": {},
   "outputs": [],
   "source": [
    "import tensorflow as tf\n",
    "from tensorflow.keras.datasets import cifar10\n",
    "from tensorflow.keras.preprocessing.image import ImageDataGenerator\n",
    "from tensorflow.keras.models import Sequential\n",
    "from tensorflow.keras.layers import Dense, Dropout, Activation, Flatten\n",
    "from tensorflow.keras.layers import Conv2D, MaxPooling2D\n",
    "from tensorflow.keras.callbacks import TensorBoard\n",
    "import pickle\n",
    "import time\n",
    "import os\n",
    "\n",
    "gpu_options = tf.GPUOptions(per_process_gpu_memory_fraction = 0.333)\n",
    "sess = tf.Session(config = tf.ConfigProto(gpu_options = gpu_options))\n",
    "\n",
    "pickle_in = open(\"X.pickle\",\"rb\")\n",
    "x = pickle.load(pickle_in)\n",
    "\n",
    "pickle_in = open(\"y.pickle\",\"rb\")\n",
    "y = pickle.load(pickle_in)\n",
    "\n",
    "#to reshape it to 0-1\n",
    "x = x/255.0"
   ]
  },
  {
   "cell_type": "code",
   "execution_count": 17,
   "metadata": {
    "scrolled": true
   },
   "outputs": [
    {
     "name": "stdout",
     "output_type": "stream",
     "text": [
      "3-conv-64-nodes-0-dense-1569510296\n",
      "Train on 1113 samples, validate on 477 samples\n",
      "Epoch 1/3\n",
      "1113/1113 [==============================] - ETA: 19s - loss: 1.1014 - acc: 0.34 - ETA: 14s - loss: 1.1129 - acc: 0.34 - ETA: 13s - loss: 1.1091 - acc: 0.29 - ETA: 12s - loss: 1.1032 - acc: 0.35 - ETA: 11s - loss: 1.0946 - acc: 0.41 - ETA: 10s - loss: 1.0961 - acc: 0.40 - ETA: 10s - loss: 1.0920 - acc: 0.42 - ETA: 11s - loss: 1.0925 - acc: 0.41 - ETA: 11s - loss: 1.0855 - acc: 0.42 - ETA: 10s - loss: 1.0854 - acc: 0.41 - ETA: 9s - loss: 1.0784 - acc: 0.4347 - ETA: 9s - loss: 1.0720 - acc: 0.442 - ETA: 8s - loss: 1.0674 - acc: 0.447 - ETA: 8s - loss: 1.0567 - acc: 0.462 - ETA: 8s - loss: 1.0458 - acc: 0.475 - ETA: 7s - loss: 1.0343 - acc: 0.484 - ETA: 7s - loss: 1.0231 - acc: 0.492 - ETA: 7s - loss: 1.0060 - acc: 0.512 - ETA: 6s - loss: 0.9874 - acc: 0.528 - ETA: 6s - loss: 0.9633 - acc: 0.545 - ETA: 5s - loss: 0.9424 - acc: 0.558 - ETA: 5s - loss: 0.9260 - acc: 0.569 - ETA: 4s - loss: 0.9073 - acc: 0.580 - ETA: 4s - loss: 0.8981 - acc: 0.587 - ETA: 4s - loss: 0.8860 - acc: 0.592 - ETA: 3s - loss: 0.8660 - acc: 0.602 - ETA: 3s - loss: 0.8474 - acc: 0.611 - ETA: 2s - loss: 0.8307 - acc: 0.619 - ETA: 2s - loss: 0.8158 - acc: 0.627 - ETA: 2s - loss: 0.8065 - acc: 0.633 - ETA: 1s - loss: 0.7937 - acc: 0.640 - ETA: 1s - loss: 0.7808 - acc: 0.647 - ETA: 0s - loss: 0.7703 - acc: 0.654 - ETA: 0s - loss: 0.7616 - acc: 0.659 - 18s 17ms/sample - loss: 0.7545 - acc: 0.6613 - val_loss: 0.4666 - val_acc: 0.8197\n",
      "Epoch 2/3\n",
      "1113/1113 [==============================] - ETA: 11s - loss: 0.4068 - acc: 0.84 - ETA: 12s - loss: 0.4943 - acc: 0.82 - ETA: 14s - loss: 0.4768 - acc: 0.83 - ETA: 14s - loss: 0.5073 - acc: 0.81 - ETA: 13s - loss: 0.4686 - acc: 0.82 - ETA: 12s - loss: 0.4696 - acc: 0.82 - ETA: 11s - loss: 0.4387 - acc: 0.83 - ETA: 11s - loss: 0.4361 - acc: 0.83 - ETA: 10s - loss: 0.4234 - acc: 0.83 - ETA: 10s - loss: 0.4299 - acc: 0.82 - ETA: 9s - loss: 0.4208 - acc: 0.8324 - ETA: 9s - loss: 0.4137 - acc: 0.830 - ETA: 8s - loss: 0.4284 - acc: 0.831 - ETA: 8s - loss: 0.4264 - acc: 0.830 - ETA: 7s - loss: 0.4329 - acc: 0.829 - ETA: 7s - loss: 0.4263 - acc: 0.832 - ETA: 7s - loss: 0.4217 - acc: 0.834 - ETA: 6s - loss: 0.4283 - acc: 0.831 - ETA: 6s - loss: 0.4260 - acc: 0.835 - ETA: 5s - loss: 0.4234 - acc: 0.839 - ETA: 5s - loss: 0.4137 - acc: 0.846 - ETA: 5s - loss: 0.4103 - acc: 0.848 - ETA: 4s - loss: 0.4073 - acc: 0.849 - ETA: 4s - loss: 0.4101 - acc: 0.847 - ETA: 3s - loss: 0.4087 - acc: 0.847 - ETA: 3s - loss: 0.3995 - acc: 0.851 - ETA: 3s - loss: 0.4049 - acc: 0.847 - ETA: 2s - loss: 0.4013 - acc: 0.847 - ETA: 2s - loss: 0.3923 - acc: 0.850 - ETA: 1s - loss: 0.3865 - acc: 0.853 - ETA: 1s - loss: 0.3851 - acc: 0.855 - ETA: 1s - loss: 0.3829 - acc: 0.856 - ETA: 0s - loss: 0.3810 - acc: 0.857 - ETA: 0s - loss: 0.3766 - acc: 0.857 - 16s 15ms/sample - loss: 0.3700 - acc: 0.8607 - val_loss: 0.3091 - val_acc: 0.8700\n",
      "Epoch 3/3\n",
      "1113/1113 [==============================] - ETA: 13s - loss: 0.2583 - acc: 0.87 - ETA: 13s - loss: 0.3236 - acc: 0.89 - ETA: 13s - loss: 0.2783 - acc: 0.89 - ETA: 12s - loss: 0.2373 - acc: 0.92 - ETA: 12s - loss: 0.2347 - acc: 0.92 - ETA: 11s - loss: 0.2450 - acc: 0.92 - ETA: 11s - loss: 0.2571 - acc: 0.91 - ETA: 10s - loss: 0.2633 - acc: 0.91 - ETA: 10s - loss: 0.2551 - acc: 0.91 - ETA: 9s - loss: 0.2513 - acc: 0.9156 - ETA: 9s - loss: 0.2415 - acc: 0.920 - ETA: 8s - loss: 0.2369 - acc: 0.921 - ETA: 8s - loss: 0.2657 - acc: 0.906 - ETA: 8s - loss: 0.2752 - acc: 0.901 - ETA: 7s - loss: 0.2740 - acc: 0.902 - ETA: 7s - loss: 0.2794 - acc: 0.898 - ETA: 7s - loss: 0.2747 - acc: 0.898 - ETA: 6s - loss: 0.2728 - acc: 0.899 - ETA: 6s - loss: 0.2675 - acc: 0.903 - ETA: 5s - loss: 0.2623 - acc: 0.906 - ETA: 5s - loss: 0.2599 - acc: 0.907 - ETA: 5s - loss: 0.2560 - acc: 0.909 - ETA: 4s - loss: 0.2578 - acc: 0.907 - ETA: 4s - loss: 0.2544 - acc: 0.908 - ETA: 3s - loss: 0.2570 - acc: 0.906 - ETA: 3s - loss: 0.2544 - acc: 0.908 - ETA: 3s - loss: 0.2579 - acc: 0.907 - ETA: 2s - loss: 0.2561 - acc: 0.908 - ETA: 2s - loss: 0.2549 - acc: 0.908 - ETA: 1s - loss: 0.2531 - acc: 0.908 - ETA: 1s - loss: 0.2525 - acc: 0.909 - ETA: 1s - loss: 0.2514 - acc: 0.910 - ETA: 0s - loss: 0.2533 - acc: 0.909 - ETA: 0s - loss: 0.2522 - acc: 0.909 - 16s 14ms/sample - loss: 0.2500 - acc: 0.9102 - val_loss: 0.2228 - val_acc: 0.9224\n"
     ]
    }
   ],
   "source": [
    "dense_layers = [0]\n",
    "layer_sizes = [64]\n",
    "conv_layers = [3]\n",
    "\n",
    "for dense_layer in dense_layers:\n",
    "    for layer_size in layer_sizes:\n",
    "        for conv_layer in conv_layers:\n",
    "            \n",
    "            NAME = \"{}-conv-{}-nodes-{}-dense-{}\".format(conv_layer, layer_size, dense_layer, int(time.time()))\n",
    "            \n",
    "            log_dir = os.path.join(\"logs\",NAME)\n",
    "            \n",
    "            tensorboard = TensorBoard(log_dir)\n",
    "            #run tensorboard: tensorboard --log_dir=logs/\n",
    "            \n",
    "            print(NAME)\n",
    "            \n",
    "            model = Sequential()\n",
    "\n",
    "            model.add(Conv2D(layer_size,(3,3), input_shape = x.shape[1:]))\n",
    "            model.add(Activation('relu'))\n",
    "            model.add(MaxPooling2D(pool_size=(2,2)))\n",
    "\n",
    "            for l in range(conv_layer-1):\n",
    "                model.add(Conv2D(layer_size,(3,3)))\n",
    "                model.add(Activation('relu'))\n",
    "                model.add(MaxPooling2D(pool_size=(2,2)))\n",
    "\n",
    "            model.add(Flatten()) #this converts our 3D features to 1D features\n",
    "            for l in range(dense_layer):\n",
    "                model.add(Dense(256))\n",
    "                model.add(Activation('relu'))\n",
    "            \n",
    "            model.add(Dense(3))\n",
    "            model.add(Activation('sigmoid'))\n",
    "\n",
    "            model.compile(loss='sparse_categorical_crossentropy',\n",
    "                         optimizer='adam',\n",
    "                         metrics=['accuracy'])\n",
    "            \n",
    "            model.fit(x, y, batch_size = 32, epochs=3, validation_split = 0.3, callbacks=[tensorboard])"
   ]
  },
  {
   "cell_type": "code",
   "execution_count": 18,
   "metadata": {},
   "outputs": [],
   "source": [
    "model.save(\"64x3-CNN.model\")"
   ]
  },
  {
   "cell_type": "code",
   "execution_count": 32,
   "metadata": {},
   "outputs": [
    {
     "name": "stderr",
     "output_type": "stream",
     "text": [
      "100%|██████████████████████████████████████████████████████████████████████████████████| 10/10 [00:00<00:00, 45.53it/s]\n",
      "100%|██████████████████████████████████████████████████████████████████████████████████| 10/10 [00:00<00:00, 46.76it/s]\n",
      "100%|██████████████████████████████████████████████████████████████████████████████████| 10/10 [00:00<00:00, 50.74it/s]\n"
     ]
    },
    {
     "name": "stdout",
     "output_type": "stream",
     "text": [
      "30\n"
     ]
    }
   ],
   "source": [
    "import tensorflow as tf\n",
    "import numpy as np\n",
    "import matplotlib.pyplot as plt\n",
    "import os\n",
    "import cv2\n",
    "from tqdm import tqdm\n",
    "import random\n",
    "\n",
    "CATEGORIES = [\"Anish\", \"Chaitu\", \"Rudra\"]\n",
    "\n",
    "pathx = \"C:/Users/Rudra/Documents/Projects/AI studies/Identifier/Test Images\"\n",
    "\n",
    "model = tf.keras.models.load_model(\"64x3-CNN.model\")\n",
    "\n",
    "testing_data = []\n",
    "\n",
    "def print_testing_data():\n",
    "    for category in CATEGORIES:  # do dogs and cats\n",
    "        path = os.path.join(pathx,category)  # create path to dogs and cats\n",
    "        class_num = CATEGORIES.index(category)  # get the classification  (0 or a 1). 0=dog 1=cat\n",
    "        IMG_SIZE_X = 72\n",
    "        IMG_SIZE_Y = 128\n",
    "        for img in tqdm(os.listdir(path)):  # iterate over each image per dogs and cats\n",
    "            try:\n",
    "                i=0\n",
    "                img_array = cv2.imread(os.path.join(path,img) ,cv2.IMREAD_GRAYSCALE)  # convert to array\n",
    "                new_array = cv2.resize(img_array, (IMG_SIZE_X, IMG_SIZE_Y))  # resize to normalize data siz\n",
    "                \n",
    "                plt.imshow(new_array, cmap='gray')  # graph it\n",
    "                plt.show() \n",
    "                \n",
    "                new_array = np.array(new_array).reshape(-1,IMG_SIZE_X,IMG_SIZE_Y,1)\n",
    "                testing_data.append([new_array, class_num])  # add this to our training_data\n",
    "                \n",
    "                prediction = model.predict(testing_data[i])\n",
    "                print(prediction)  # will be a list in a list.\n",
    "                print(CATEGORIES[int(prediction[0][0])])\n",
    "                i=i+1\n",
    "            except Exception as e:  # in the interest in keeping the output clean...\n",
    "                pass\n",
    "            #except OSError as e:\n",
    "            #    print(\"OSErrroBad img most likely\", e, os.path.join(path,img))\n",
    "            #except Exception as e:\n",
    "            #    print(\"general exception\", e, os.path.join(path,img))\n",
    "\n",
    "print_testing_data()\n",
    "\n",
    "#print(len(testing_data))\n",
    "\n",
    "#random.shuffle(testing_data)"
   ]
  },
  {
   "cell_type": "code",
   "execution_count": 36,
   "metadata": {},
   "outputs": [
    {
     "ename": "TypeError",
     "evalue": "Image data of dtype object cannot be converted to float",
     "output_type": "error",
     "traceback": [
      "\u001b[1;31m---------------------------------------------------------------------------\u001b[0m",
      "\u001b[1;31mTypeError\u001b[0m                                 Traceback (most recent call last)",
      "\u001b[1;32m<ipython-input-36-f92737a75643>\u001b[0m in \u001b[0;36m<module>\u001b[1;34m\u001b[0m\n\u001b[1;32m----> 1\u001b[1;33m \u001b[0mplt\u001b[0m\u001b[1;33m.\u001b[0m\u001b[0mimshow\u001b[0m\u001b[1;33m(\u001b[0m\u001b[0mtraining_data\u001b[0m\u001b[1;33m,\u001b[0m \u001b[0mcmap\u001b[0m\u001b[1;33m=\u001b[0m\u001b[1;34m'gray'\u001b[0m\u001b[1;33m)\u001b[0m  \u001b[1;31m# graph it\u001b[0m\u001b[1;33m\u001b[0m\u001b[1;33m\u001b[0m\u001b[0m\n\u001b[0m\u001b[0;32m      2\u001b[0m \u001b[0mplt\u001b[0m\u001b[1;33m.\u001b[0m\u001b[0mshow\u001b[0m\u001b[1;33m(\u001b[0m\u001b[1;33m)\u001b[0m\u001b[1;33m\u001b[0m\u001b[1;33m\u001b[0m\u001b[0m\n\u001b[0;32m      3\u001b[0m \u001b[1;33m\u001b[0m\u001b[0m\n\u001b[0;32m      4\u001b[0m \u001b[0mprediction\u001b[0m \u001b[1;33m=\u001b[0m \u001b[0mmodel\u001b[0m\u001b[1;33m.\u001b[0m\u001b[0mpredict\u001b[0m\u001b[1;33m(\u001b[0m\u001b[0mtesting_data\u001b[0m\u001b[1;33m[\u001b[0m\u001b[1;36m0\u001b[0m\u001b[1;33m]\u001b[0m\u001b[1;33m)\u001b[0m\u001b[1;33m\u001b[0m\u001b[1;33m\u001b[0m\u001b[0m\n\u001b[0;32m      5\u001b[0m \u001b[0mprint\u001b[0m\u001b[1;33m(\u001b[0m\u001b[0mprediction\u001b[0m\u001b[1;33m)\u001b[0m  \u001b[1;31m# will be a list in a list.\u001b[0m\u001b[1;33m\u001b[0m\u001b[1;33m\u001b[0m\u001b[0m\n",
      "\u001b[1;32m~\\Anaconda3\\lib\\site-packages\\matplotlib\\pyplot.py\u001b[0m in \u001b[0;36mimshow\u001b[1;34m(X, cmap, norm, aspect, interpolation, alpha, vmin, vmax, origin, extent, shape, filternorm, filterrad, imlim, resample, url, data, **kwargs)\u001b[0m\n\u001b[0;32m   2675\u001b[0m         \u001b[0mfilternorm\u001b[0m\u001b[1;33m=\u001b[0m\u001b[0mfilternorm\u001b[0m\u001b[1;33m,\u001b[0m \u001b[0mfilterrad\u001b[0m\u001b[1;33m=\u001b[0m\u001b[0mfilterrad\u001b[0m\u001b[1;33m,\u001b[0m \u001b[0mimlim\u001b[0m\u001b[1;33m=\u001b[0m\u001b[0mimlim\u001b[0m\u001b[1;33m,\u001b[0m\u001b[1;33m\u001b[0m\u001b[1;33m\u001b[0m\u001b[0m\n\u001b[0;32m   2676\u001b[0m         resample=resample, url=url, **({\"data\": data} if data is not\n\u001b[1;32m-> 2677\u001b[1;33m         None else {}), **kwargs)\n\u001b[0m\u001b[0;32m   2678\u001b[0m     \u001b[0msci\u001b[0m\u001b[1;33m(\u001b[0m\u001b[0m__ret\u001b[0m\u001b[1;33m)\u001b[0m\u001b[1;33m\u001b[0m\u001b[1;33m\u001b[0m\u001b[0m\n\u001b[0;32m   2679\u001b[0m     \u001b[1;32mreturn\u001b[0m \u001b[0m__ret\u001b[0m\u001b[1;33m\u001b[0m\u001b[1;33m\u001b[0m\u001b[0m\n",
      "\u001b[1;32m~\\Anaconda3\\lib\\site-packages\\matplotlib\\__init__.py\u001b[0m in \u001b[0;36minner\u001b[1;34m(ax, data, *args, **kwargs)\u001b[0m\n\u001b[0;32m   1587\u001b[0m     \u001b[1;32mdef\u001b[0m \u001b[0minner\u001b[0m\u001b[1;33m(\u001b[0m\u001b[0max\u001b[0m\u001b[1;33m,\u001b[0m \u001b[1;33m*\u001b[0m\u001b[0margs\u001b[0m\u001b[1;33m,\u001b[0m \u001b[0mdata\u001b[0m\u001b[1;33m=\u001b[0m\u001b[1;32mNone\u001b[0m\u001b[1;33m,\u001b[0m \u001b[1;33m**\u001b[0m\u001b[0mkwargs\u001b[0m\u001b[1;33m)\u001b[0m\u001b[1;33m:\u001b[0m\u001b[1;33m\u001b[0m\u001b[1;33m\u001b[0m\u001b[0m\n\u001b[0;32m   1588\u001b[0m         \u001b[1;32mif\u001b[0m \u001b[0mdata\u001b[0m \u001b[1;32mis\u001b[0m \u001b[1;32mNone\u001b[0m\u001b[1;33m:\u001b[0m\u001b[1;33m\u001b[0m\u001b[1;33m\u001b[0m\u001b[0m\n\u001b[1;32m-> 1589\u001b[1;33m             \u001b[1;32mreturn\u001b[0m \u001b[0mfunc\u001b[0m\u001b[1;33m(\u001b[0m\u001b[0max\u001b[0m\u001b[1;33m,\u001b[0m \u001b[1;33m*\u001b[0m\u001b[0mmap\u001b[0m\u001b[1;33m(\u001b[0m\u001b[0msanitize_sequence\u001b[0m\u001b[1;33m,\u001b[0m \u001b[0margs\u001b[0m\u001b[1;33m)\u001b[0m\u001b[1;33m,\u001b[0m \u001b[1;33m**\u001b[0m\u001b[0mkwargs\u001b[0m\u001b[1;33m)\u001b[0m\u001b[1;33m\u001b[0m\u001b[1;33m\u001b[0m\u001b[0m\n\u001b[0m\u001b[0;32m   1590\u001b[0m \u001b[1;33m\u001b[0m\u001b[0m\n\u001b[0;32m   1591\u001b[0m         \u001b[0mbound\u001b[0m \u001b[1;33m=\u001b[0m \u001b[0mnew_sig\u001b[0m\u001b[1;33m.\u001b[0m\u001b[0mbind\u001b[0m\u001b[1;33m(\u001b[0m\u001b[0max\u001b[0m\u001b[1;33m,\u001b[0m \u001b[1;33m*\u001b[0m\u001b[0margs\u001b[0m\u001b[1;33m,\u001b[0m \u001b[1;33m**\u001b[0m\u001b[0mkwargs\u001b[0m\u001b[1;33m)\u001b[0m\u001b[1;33m\u001b[0m\u001b[1;33m\u001b[0m\u001b[0m\n",
      "\u001b[1;32m~\\Anaconda3\\lib\\site-packages\\matplotlib\\cbook\\deprecation.py\u001b[0m in \u001b[0;36mwrapper\u001b[1;34m(*args, **kwargs)\u001b[0m\n\u001b[0;32m    367\u001b[0m                 \u001b[1;34mf\"%(removal)s.  If any parameter follows {name!r}, they \"\u001b[0m\u001b[1;33m\u001b[0m\u001b[1;33m\u001b[0m\u001b[0m\n\u001b[0;32m    368\u001b[0m                 f\"should be pass as keyword, not positionally.\")\n\u001b[1;32m--> 369\u001b[1;33m         \u001b[1;32mreturn\u001b[0m \u001b[0mfunc\u001b[0m\u001b[1;33m(\u001b[0m\u001b[1;33m*\u001b[0m\u001b[0margs\u001b[0m\u001b[1;33m,\u001b[0m \u001b[1;33m**\u001b[0m\u001b[0mkwargs\u001b[0m\u001b[1;33m)\u001b[0m\u001b[1;33m\u001b[0m\u001b[1;33m\u001b[0m\u001b[0m\n\u001b[0m\u001b[0;32m    370\u001b[0m \u001b[1;33m\u001b[0m\u001b[0m\n\u001b[0;32m    371\u001b[0m     \u001b[1;32mreturn\u001b[0m \u001b[0mwrapper\u001b[0m\u001b[1;33m\u001b[0m\u001b[1;33m\u001b[0m\u001b[0m\n",
      "\u001b[1;32m~\\Anaconda3\\lib\\site-packages\\matplotlib\\cbook\\deprecation.py\u001b[0m in \u001b[0;36mwrapper\u001b[1;34m(*args, **kwargs)\u001b[0m\n\u001b[0;32m    367\u001b[0m                 \u001b[1;34mf\"%(removal)s.  If any parameter follows {name!r}, they \"\u001b[0m\u001b[1;33m\u001b[0m\u001b[1;33m\u001b[0m\u001b[0m\n\u001b[0;32m    368\u001b[0m                 f\"should be pass as keyword, not positionally.\")\n\u001b[1;32m--> 369\u001b[1;33m         \u001b[1;32mreturn\u001b[0m \u001b[0mfunc\u001b[0m\u001b[1;33m(\u001b[0m\u001b[1;33m*\u001b[0m\u001b[0margs\u001b[0m\u001b[1;33m,\u001b[0m \u001b[1;33m**\u001b[0m\u001b[0mkwargs\u001b[0m\u001b[1;33m)\u001b[0m\u001b[1;33m\u001b[0m\u001b[1;33m\u001b[0m\u001b[0m\n\u001b[0m\u001b[0;32m    370\u001b[0m \u001b[1;33m\u001b[0m\u001b[0m\n\u001b[0;32m    371\u001b[0m     \u001b[1;32mreturn\u001b[0m \u001b[0mwrapper\u001b[0m\u001b[1;33m\u001b[0m\u001b[1;33m\u001b[0m\u001b[0m\n",
      "\u001b[1;32m~\\Anaconda3\\lib\\site-packages\\matplotlib\\axes\\_axes.py\u001b[0m in \u001b[0;36mimshow\u001b[1;34m(self, X, cmap, norm, aspect, interpolation, alpha, vmin, vmax, origin, extent, shape, filternorm, filterrad, imlim, resample, url, **kwargs)\u001b[0m\n\u001b[0;32m   5658\u001b[0m                               resample=resample, **kwargs)\n\u001b[0;32m   5659\u001b[0m \u001b[1;33m\u001b[0m\u001b[0m\n\u001b[1;32m-> 5660\u001b[1;33m         \u001b[0mim\u001b[0m\u001b[1;33m.\u001b[0m\u001b[0mset_data\u001b[0m\u001b[1;33m(\u001b[0m\u001b[0mX\u001b[0m\u001b[1;33m)\u001b[0m\u001b[1;33m\u001b[0m\u001b[1;33m\u001b[0m\u001b[0m\n\u001b[0m\u001b[0;32m   5661\u001b[0m         \u001b[0mim\u001b[0m\u001b[1;33m.\u001b[0m\u001b[0mset_alpha\u001b[0m\u001b[1;33m(\u001b[0m\u001b[0malpha\u001b[0m\u001b[1;33m)\u001b[0m\u001b[1;33m\u001b[0m\u001b[1;33m\u001b[0m\u001b[0m\n\u001b[0;32m   5662\u001b[0m         \u001b[1;32mif\u001b[0m \u001b[0mim\u001b[0m\u001b[1;33m.\u001b[0m\u001b[0mget_clip_path\u001b[0m\u001b[1;33m(\u001b[0m\u001b[1;33m)\u001b[0m \u001b[1;32mis\u001b[0m \u001b[1;32mNone\u001b[0m\u001b[1;33m:\u001b[0m\u001b[1;33m\u001b[0m\u001b[1;33m\u001b[0m\u001b[0m\n",
      "\u001b[1;32m~\\Anaconda3\\lib\\site-packages\\matplotlib\\image.py\u001b[0m in \u001b[0;36mset_data\u001b[1;34m(self, A)\u001b[0m\n\u001b[0;32m    676\u001b[0m                 not np.can_cast(self._A.dtype, float, \"same_kind\")):\n\u001b[0;32m    677\u001b[0m             raise TypeError(\"Image data of dtype {} cannot be converted to \"\n\u001b[1;32m--> 678\u001b[1;33m                             \"float\".format(self._A.dtype))\n\u001b[0m\u001b[0;32m    679\u001b[0m \u001b[1;33m\u001b[0m\u001b[0m\n\u001b[0;32m    680\u001b[0m         if not (self._A.ndim == 2\n",
      "\u001b[1;31mTypeError\u001b[0m: Image data of dtype object cannot be converted to float"
     ]
    },
    {
     "data": {
      "image/png": "[encoded data removed]",
      "text/plain": [
       "<Figure size 432x288 with 1 Axes>"
      ]
     },
     "metadata": {
      "needs_background": "light"
     },
     "output_type": "display_data"
    }
   ],
   "source": []
  }
 ],
 "metadata": {
  "kernelspec": {
   "display_name": "Python 3",
   "language": "python",
   "name": "python3"
  },
  "language_info": {
   "codemirror_mode": {
    "name": "ipython",
    "version": 3
   },
   "file_extension": ".py",
   "mimetype": "text/x-python",
   "name": "python",
   "nbconvert_exporter": "python",
   "pygments_lexer": "ipython3",
   "version": "3.7.3"
  }
 },
 "nbformat": 4,
 "nbformat_minor": 2
}
